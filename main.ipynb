{
 "cells": [
  {
   "cell_type": "markdown",
   "metadata": {},
   "source": [
    "### 1. Load Environment Variables from .env 📥"
   ]
  },
  {
   "cell_type": "code",
   "execution_count": 1,
   "metadata": {},
   "outputs": [
    {
     "data": {
      "text/plain": [
       "True"
      ]
     },
     "execution_count": 1,
     "metadata": {},
     "output_type": "execute_result"
    }
   ],
   "source": [
    "from dotenv import load_dotenv\n",
    "\n",
    "load_dotenv()"
   ]
  },
  {
   "cell_type": "markdown",
   "metadata": {},
   "source": [
    "### 2. Load Documents 📚"
   ]
  },
  {
   "cell_type": "code",
   "execution_count": null,
   "metadata": {},
   "outputs": [],
   "source": [
    "from langchain.document_loaders import PyPDFLoader\n",
    "\n",
    "documents = PyPDFLoader('documents/book_01.pdf').load()\n",
    "documents"
   ]
  },
  {
   "cell_type": "markdown",
   "metadata": {},
   "source": [
    "### 3. Preprocess Documents & Create Chunks 📝"
   ]
  },
  {
   "cell_type": "code",
   "execution_count": 3,
   "metadata": {},
   "outputs": [],
   "source": [
    "from langchain.text_splitter import CharacterTextSplitter\n",
    "\n",
    "chunks = CharacterTextSplitter(chunk_size= 1000, chunk_overlap=0).split_documents(documents)"
   ]
  },
  {
   "cell_type": "markdown",
   "metadata": {},
   "source": [
    "### 4. Create Embeddings 📐"
   ]
  },
  {
   "cell_type": "code",
   "execution_count": 4,
   "metadata": {},
   "outputs": [],
   "source": [
    "from langchain.embeddings.openai import OpenAIEmbeddings\n",
    "\n",
    "embeddings = OpenAIEmbeddings()"
   ]
  },
  {
   "cell_type": "markdown",
   "metadata": {},
   "source": [
    "### 5. Initialize The Database 🗄️"
   ]
  },
  {
   "cell_type": "code",
   "execution_count": 7,
   "metadata": {},
   "outputs": [],
   "source": [
    "from langchain.vectorstores import Chroma\n",
    "\n",
    "database = Chroma.from_documents(chunks, embeddings)"
   ]
  },
  {
   "cell_type": "markdown",
   "metadata": {},
   "source": [
    "### 6. Create The Retriever 🧲"
   ]
  },
  {
   "cell_type": "code",
   "execution_count": 8,
   "metadata": {},
   "outputs": [],
   "source": [
    "retriever = database.as_retriever(search_type='similarity', search_kwargs={'k': 3})"
   ]
  },
  {
   "cell_type": "markdown",
   "metadata": {},
   "source": [
    "### 7. Import The LLM Model 🤖"
   ]
  },
  {
   "cell_type": "code",
   "execution_count": 9,
   "metadata": {},
   "outputs": [],
   "source": [
    "from langchain.llms.openai import OpenAI\n",
    "\n",
    "llm = OpenAI()"
   ]
  },
  {
   "cell_type": "markdown",
   "metadata": {},
   "source": [
    "### 8. Build Your Chain 📜"
   ]
  },
  {
   "cell_type": "code",
   "execution_count": 10,
   "metadata": {},
   "outputs": [],
   "source": [
    "from langchain.chains import RetrievalQA\n",
    "\n",
    "qa = RetrievalQA.from_chain_type(\n",
    "    llm=llm,\n",
    "    chain_type='stuff',\n",
    "    retriever=retriever,\n",
    "    return_source_documents=True,\n",
    ")"
   ]
  },
  {
   "cell_type": "markdown",
   "metadata": {},
   "source": [
    "### 9. Start Testing 🧪"
   ]
  },
  {
   "cell_type": "code",
   "execution_count": 70,
   "metadata": {},
   "outputs": [],
   "source": [
    "def ask(question):\n",
    "    prompt = f\"\"\"\n",
    "    You are an advanced language model designed to analyze and understand medical literature, specifically focused on chest pneumonia. Your goal is to provide comprehensive information on diagnoses and treatment related to chest pneumonia. If the information is available in the documents you have been trained on, please provide detailed and accurate responses. If the information is not present, respond with 'Not mentioned in the documents.'\n",
    "    Ensure that your answers are based on credible medical sources and provide a clear distinction between known information and unknown information.\n",
    "    Question: {question}\n",
    "    \"\"\"\n",
    "    output = qa({'query' : prompt})\n",
    "    result, source = output['result'], output['source_documents']\n",
    "\n",
    "    print(f'Query :  {question}')\n",
    "    print(f'Result:  {result}')\n",
    "    if result.find('Not mentioned in the documents') < 0:\n",
    "        print(f'From  :  {source[0].metadata[\"source\"]}, page number: {source[0].metadata[\"page\"] + 1}')"
   ]
  },
  {
   "cell_type": "code",
   "execution_count": 71,
   "metadata": {},
   "outputs": [
    {
     "name": "stdout",
     "output_type": "stream",
     "text": [
      "Query :  What are the symptoms of pneumonia?\n",
      "Result:   The symptoms of pneumonia include fever, cough, tachypnea, and rales on auscultation.\n",
      "From  :  documents/book_01.pdf, page number: 3\n"
     ]
    }
   ],
   "source": [
    "ask('What are the symptoms of pneumonia?')"
   ]
  },
  {
   "cell_type": "code",
   "execution_count": 72,
   "metadata": {},
   "outputs": [
    {
     "name": "stdout",
     "output_type": "stream",
     "text": [
      "Query :  how to treat pneumonia?\n",
      "Result:   Pneumonia can be treated with a variety of supportive treatments, including oxygen delivery methods, fluid therapy regimens, chest physiotherapy, steroid treatment, granulocyte colony stimulating factor treatment, surfactant application, vitamins A, C and D, zinc, protein and calorie supplements. Monitoring of oxygen levels and oxygen delivery guided by oxygen saturation levels can also reduce hospitalization. In children, nasal prongs and nasopharyngeal catheters have been found to be similarly effective and safe. Clinical signs may not reliably indicate hypoxemia, but vitamin C supplementation in critically ill patients has been associated with lower mortality and reduced respiratory symptom score in one trial. Steroid application has been associated with reduction of mortality and need for mechanical ventilation in people with pneumocystis jiroveci pneumonia, but there is insufficient evidence to support their use in other forms of pneumonia. Granulocyte colony stimulating factor application has not been associated with reduction of mortality in a meta-analysis of 6 studies, and six trials investigating vitamin A showed no significant reduction in mortality or duration of hospital stay.\n",
      "From  :  documents/book_01.pdf, page number: 3\n"
     ]
    }
   ],
   "source": [
    "ask(\"how to treat pneumonia?\")"
   ]
  },
  {
   "cell_type": "code",
   "execution_count": 73,
   "metadata": {},
   "outputs": [
    {
     "name": "stdout",
     "output_type": "stream",
     "text": [
      "Query :  What is the most common cause of pneumonia?\n",
      "Result:   The most common cause of pneumonia is an inflammatory-infectious process. However, other etiological causes of inflammation in the lung, such as aerobic gram-negative germs, viruses, fungi, and atypical pathogens, can also cause pneumonia.\n",
      "From  :  documents/book_01.pdf, page number: 13\n"
     ]
    }
   ],
   "source": [
    "ask(\"What is the most common cause of pneumonia?\")"
   ]
  },
  {
   "cell_type": "code",
   "execution_count": 74,
   "metadata": {},
   "outputs": [
    {
     "name": "stdout",
     "output_type": "stream",
     "text": [
      "Query :  what is the fatality rate of pneumonia?\n",
      "Result:   The American Thoracic Society estimates that the mortality rate of pneumonia is 6 to 12% in patients admitted to hospital with community-acquired pneumonia and over 50% in patients admitted to the intensive care unit.\n",
      "From  :  documents/book_01.pdf, page number: 13\n"
     ]
    }
   ],
   "source": [
    "ask(\"what is the fatality rate of pneumonia?\")"
   ]
  },
  {
   "cell_type": "code",
   "execution_count": 75,
   "metadata": {},
   "outputs": [
    {
     "name": "stdout",
     "output_type": "stream",
     "text": [
      "Query :  what is the rate of tuberculosis?\n",
      "Result:   Not mentioned in the documents.\n"
     ]
    }
   ],
   "source": [
    "ask(\"what is the rate of tuberculosis?\")"
   ]
  },
  {
   "cell_type": "code",
   "execution_count": null,
   "metadata": {},
   "outputs": [],
   "source": []
  }
 ],
 "metadata": {
  "kernelspec": {
   "display_name": "env",
   "language": "python",
   "name": "python3"
  },
  "language_info": {
   "codemirror_mode": {
    "name": "ipython",
    "version": 3
   },
   "file_extension": ".py",
   "mimetype": "text/x-python",
   "name": "python",
   "nbconvert_exporter": "python",
   "pygments_lexer": "ipython3",
   "version": "3.11.6"
  }
 },
 "nbformat": 4,
 "nbformat_minor": 2
}
